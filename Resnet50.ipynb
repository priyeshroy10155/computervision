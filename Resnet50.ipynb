{
  "nbformat": 4,
  "nbformat_minor": 0,
  "metadata": {
    "colab": {
      "provenance": [],
      "authorship_tag": "ABX9TyM+/xBQVmWrJrkVLZn6RLY2",
      "include_colab_link": true
    },
    "kernelspec": {
      "name": "python3",
      "display_name": "Python 3"
    },
    "language_info": {
      "name": "python"
    },
    "gpuClass": "standard",
    "accelerator": "GPU"
  },
  "cells": [
    {
      "cell_type": "markdown",
      "metadata": {
        "id": "view-in-github",
        "colab_type": "text"
      },
      "source": [
        "<a href=\"https://colab.research.google.com/github/priyeshroy10155/computervision/blob/main/Resnet50.ipynb\" target=\"_parent\"><img src=\"https://colab.research.google.com/assets/colab-badge.svg\" alt=\"Open In Colab\"/></a>"
      ]
    },
    {
      "cell_type": "code",
      "execution_count": 1,
      "metadata": {
        "colab": {
          "base_uri": "https://localhost:8080/"
        },
        "id": "pq3uhT3XQLl2",
        "outputId": "18bfb690-c677-406f-836e-4258fdfd820e"
      },
      "outputs": [
        {
          "output_type": "stream",
          "name": "stdout",
          "text": [
            "Mounted at /content/drive\n"
          ]
        }
      ],
      "source": [
        "from google.colab import drive\n",
        "drive.mount('/content/drive')"
      ]
    },
    {
      "cell_type": "code",
      "source": [
        "#%cd /content/drive/MyDrive/Resnet50"
      ],
      "metadata": {
        "id": "nWZDPNSIQ59X"
      },
      "execution_count": 2,
      "outputs": []
    },
    {
      "cell_type": "code",
      "source": [
        "#! unzip /content/drive/MyDrive/Resnet50/ResNet50-master.zip"
      ],
      "metadata": {
        "id": "sk4wFRrcQbO1"
      },
      "execution_count": 3,
      "outputs": []
    },
    {
      "cell_type": "code",
      "source": [
        "import numpy as np\n",
        "import pandas as pd\n",
        "import matplotlib.pyplot as plt\n",
        "import os\n",
        "import cv2"
      ],
      "metadata": {
        "id": "Qp0-yGo4RE6n"
      },
      "execution_count": 4,
      "outputs": []
    },
    {
      "cell_type": "code",
      "source": [
        "data_path=os.listdir('/content/drive/MyDrive/Resnet50/ResNet50-master/rooms_dataset')\n",
        "room_types=os.listdir('/content/drive/MyDrive/Resnet50/ResNet50-master/rooms_dataset')\n",
        "print('Types of rooms found:',len(data_path))\n",
        "print(room_types)"
      ],
      "metadata": {
        "colab": {
          "base_uri": "https://localhost:8080/"
        },
        "id": "onW9MS85Swcj",
        "outputId": "193c68ae-12fb-4351-edf1-77b2859233e8"
      },
      "execution_count": 5,
      "outputs": [
        {
          "output_type": "stream",
          "name": "stdout",
          "text": [
            "Types of rooms found: 3\n",
            "['living_room', 'dining_room', 'bed_room']\n"
          ]
        }
      ]
    },
    {
      "cell_type": "code",
      "source": [
        "rooms=[]\n",
        "for item in room_types:\n",
        "  all_rooms=os.listdir('/content/drive/MyDrive/Resnet50/ResNet50-master/rooms_dataset'+'/'+item)\n",
        "  for room in all_rooms:\n",
        "    rooms.append((item, str('/content/drive/MyDrive/Resnet50/ResNet50-master/rooms_dataset'+'/'+item)+'/'+room))\n",
        "print(rooms[0])"
      ],
      "metadata": {
        "colab": {
          "base_uri": "https://localhost:8080/"
        },
        "id": "91okPeAAULSQ",
        "outputId": "1882f215-9a7a-490f-9a95-78ebf7f44199"
      },
      "execution_count": 6,
      "outputs": [
        {
          "output_type": "stream",
          "name": "stdout",
          "text": [
            "('living_room', '/content/drive/MyDrive/Resnet50/ResNet50-master/rooms_dataset/living_room/photo-1554995207-c18c203602cb.jpg')\n"
          ]
        }
      ]
    },
    {
      "cell_type": "code",
      "source": [
        "rooms_df=pd.DataFrame(data=rooms,columns=['room type','image'])\n",
        "# print(rooms_df.head())\n",
        "# print(rooms_df.tail())\n",
        "print(len(rooms_df))\n",
        "rooms_count=rooms_df['room type'].value_counts()\n",
        "print(rooms_count)"
      ],
      "metadata": {
        "colab": {
          "base_uri": "https://localhost:8080/"
        },
        "id": "8TJoaxVdarQz",
        "outputId": "f0618a7a-6bfc-4b85-8fd8-41b9756d3f71"
      },
      "execution_count": 7,
      "outputs": [
        {
          "output_type": "stream",
          "name": "stdout",
          "text": [
            "393\n",
            "bed_room       159\n",
            "living_room    148\n",
            "dining_room     86\n",
            "Name: room type, dtype: int64\n"
          ]
        }
      ]
    },
    {
      "cell_type": "code",
      "source": [
        "path='/content/drive/MyDrive/Resnet50/ResNet50-master/rooms_dataset/'\n",
        "im_size=224\n",
        "images=[]\n",
        "labels=[]\n",
        "for i in room_types:\n",
        "    \n",
        "  data_path=path+str(i)\n",
        "  filenames=[i for i in os.listdir(data_path)]\n",
        "  #print(filenames)\n",
        "  for f in filenames:\n",
        "\n",
        "    img=cv2.imread(data_path+'/'+f)\n",
        "     #print(img)\n",
        "    img=cv2.resize(img, (224,224))\n",
        "    images.append(img)\n",
        "    labels.append(i)\n"
      ],
      "metadata": {
        "id": "ODZvqWXub3mH"
      },
      "execution_count": 8,
      "outputs": []
    },
    {
      "cell_type": "code",
      "source": [
        "#Transform arry to numpy\n",
        "images=np.array(images)\n",
        "images.shape"
      ],
      "metadata": {
        "id": "cvvVF8gqgKtb",
        "colab": {
          "base_uri": "https://localhost:8080/"
        },
        "outputId": "c14edc6f-8b1c-4cd8-d428-960f6db23148"
      },
      "execution_count": 9,
      "outputs": [
        {
          "output_type": "execute_result",
          "data": {
            "text/plain": [
              "(393, 224, 224, 3)"
            ]
          },
          "metadata": {},
          "execution_count": 9
        }
      ]
    },
    {
      "cell_type": "code",
      "source": [
        "images=images.astype('float32')/255.0"
      ],
      "metadata": {
        "id": "-kLirtrx3-NW"
      },
      "execution_count": 10,
      "outputs": []
    },
    {
      "cell_type": "code",
      "source": [
        "from sklearn.preprocessing import OneHotEncoder\n",
        "from sklearn.compose import ColumnTransformer\n",
        "y=rooms_df['room type'].values\n",
        "y=y.reshape(-1,1)\n",
        "columnTransformer = ColumnTransformer([('encoder', OneHotEncoder(), [0])],     remainder='passthrough')\n",
        "Y= columnTransformer.fit_transform(y)\n",
        "Y.shape\n"
      ],
      "metadata": {
        "colab": {
          "base_uri": "https://localhost:8080/"
        },
        "id": "76xM0JIG4AqO",
        "outputId": "87c16862-b2bc-4d16-8973-515457ed7e6b"
      },
      "execution_count": 11,
      "outputs": [
        {
          "output_type": "execute_result",
          "data": {
            "text/plain": [
              "(393, 3)"
            ]
          },
          "metadata": {},
          "execution_count": 11
        }
      ]
    },
    {
      "cell_type": "code",
      "source": [
        "from sklearn.utils import shuffle\n",
        "from sklearn.model_selection import train_test_split\n",
        "images, Y=shuffle(images, Y, random_state=1)\n",
        "train_x, test_x, train_y, test_y =train_test_split(images, Y, test_size=0.05,random_state=415)\n",
        "print(train_x.shape)\n",
        "print(test_x.shape)\n",
        "print(train_y.shape)\n",
        "print(test_y.shape)"
      ],
      "metadata": {
        "colab": {
          "base_uri": "https://localhost:8080/"
        },
        "id": "mNSjUex25vmQ",
        "outputId": "57f8937e-02e3-46a3-fbdd-375a7b6485c7"
      },
      "execution_count": 12,
      "outputs": [
        {
          "output_type": "stream",
          "name": "stdout",
          "text": [
            "(373, 224, 224, 3)\n",
            "(20, 224, 224, 3)\n",
            "(373, 3)\n",
            "(20, 3)\n"
          ]
        }
      ]
    },
    {
      "cell_type": "markdown",
      "source": [
        "**ResNet**"
      ],
      "metadata": {
        "id": "aMt5VjHPBbwn"
      }
    },
    {
      "cell_type": "code",
      "source": [
        "import numpy as np\n",
        "from keras import layers\n",
        "from keras.layers import Input, Add, Dense, Activation, ZeroPadding2D, BatchNormalization, Flatten, Conv2D, AveragePooling2D, MaxPooling2D, GlobalMaxPooling2D\n",
        "from keras.models import Model, load_model\n",
        "from keras.preprocessing import image\n",
        "from keras.utils import layer_utils\n",
        "from keras.utils.data_utils import get_file\n",
        "from keras.applications.imagenet_utils import preprocess_input\n",
        "import pydot\n",
        "from IPython.display import SVG\n",
        "from keras.utils.vis_utils import model_to_dot\n",
        "from keras.utils import plot_model\n",
        "\n",
        "from keras.initializers import glorot_uniform\n",
        "import scipy.misc\n",
        "from matplotlib.pyplot import imshow\n",
        "\n",
        "from keras.initializers import glorot_uniform\n",
        "from keras.layers import Input, Add, Dense, Activation, ZeroPadding2D, BatchNormalization, Flatten, Conv2D, AveragePooling2D, MaxPooling2D, GlobalMaxPooling2D"
      ],
      "metadata": {
        "id": "D4fAT0RW_QsO"
      },
      "execution_count": 13,
      "outputs": []
    },
    {
      "cell_type": "markdown",
      "source": [
        "**Identity Block**"
      ],
      "metadata": {
        "id": "c7ozsb3qD3p2"
      }
    },
    {
      "cell_type": "code",
      "source": [
        "# x is input, y=F(x)\n",
        "# identity block simply means input should be equal to output. \n",
        "#  y = x + F(x)   the layers in a traditional network are learning the true output H(x)\n",
        "# F(x) = y - x   the layers in a residual network are learning the residual F(x)\n",
        "# Hence, the name: Residual Block.\n",
        "\n",
        "\n",
        "\n",
        "def identity_block(X, f, filters, stage, block):\n",
        "    \"\"\"\n",
        "   \n",
        "    Arguments:\n",
        "    X -- input of shape (m, height, width, channel)\n",
        "    f -- shape of the middle CONV's window for the main path\n",
        "    filters -- python list of integers, defining the number of filters in the CONV layers of the main path\n",
        "    stage -- integer, used to name the layers, depending on their position in the network\n",
        "    block -- string/character, used to name the layers, depending on their position in the network\n",
        "    \n",
        "    Returns:\n",
        "    X -- output of the identity block, tensor of shape (n_H, n_W, n_C)\n",
        "    \"\"\"\n",
        "    \n",
        "    # defining name basis\n",
        "    conv_name_base = 'res' + str(stage) + block + '_branch'\n",
        "    bn_name_base = 'bn' + str(stage) + block + '_branch'\n",
        "    \n",
        "    # Retrieve Filters\n",
        "    F1, F2, F3 = filters\n",
        "    \n",
        "    # Saving the input value.we need this later to add to the output. \n",
        "    X_shortcut = X\n",
        "    \n",
        "    # First component of main path\n",
        "    X = Conv2D(filters = F1, kernel_size = (1, 1), strides = (1,1), padding = 'valid', name = conv_name_base + '2a')(X)\n",
        "    X = BatchNormalization(axis = 3, name = bn_name_base + '2a')(X)\n",
        "    X = Activation('relu')(X)\n",
        "\n",
        "    \n",
        "    # Second component of main path (≈3 lines)\n",
        "    X = Conv2D(filters = F2, kernel_size = (f, f), strides = (1,1), padding = 'same', name = conv_name_base + '2b')(X)\n",
        "    X = BatchNormalization(axis = 3, name = bn_name_base + '2b')(X)\n",
        "    X = Activation('relu')(X)\n",
        "\n",
        "    # Third component of main path (≈2 lines)\n",
        "    X = Conv2D(filters = F3, kernel_size = (1, 1), strides = (1,1), padding = 'valid', name = conv_name_base + '2c')(X)\n",
        "    X = BatchNormalization(axis = 3, name = bn_name_base + '2c')(X)\n",
        "\n",
        "    # Final step: Add shortcut value to main path, and pass it through a RELU activation \n",
        "    X = Add()([X, X_shortcut])\n",
        "    X = Activation('relu')(X)\n",
        "    \n",
        "    \n",
        "    return X"
      ],
      "metadata": {
        "id": "YRZyuQzCClhu"
      },
      "execution_count": 19,
      "outputs": []
    },
    {
      "cell_type": "code",
      "source": [
        "def convolutional_block(X, f, filters, stage, block, s = 2):\n",
        "    \n",
        "    # defining name basis\n",
        "    conv_name_base = 'res' + str(stage) + block + '_branch'\n",
        "    bn_name_base = 'bn' + str(stage) + block + '_branch'\n",
        "    \n",
        "    # Retrieve Filters\n",
        "    F1, F2, F3 = filters\n",
        "    \n",
        "    # Save the input value\n",
        "    X_shortcut = X\n",
        "\n",
        "\n",
        "    # First layer \n",
        "    X = Conv2D(F1, (1, 1), strides = (s,s), name = conv_name_base + '2a')(X) # 1,1 is filter size\n",
        "    X = BatchNormalization(axis = 3, name = bn_name_base + '2a')(X)  # normalization on channels\n",
        "    X = Activation('relu')(X)\n",
        "\n",
        "      \n",
        "    # Second layer  (f,f)=3*3 filter by default\n",
        "    X = Conv2D(filters = F2, kernel_size = (f, f), strides = (1,1), padding = 'same', name = conv_name_base + '2b')(X)\n",
        "    X = BatchNormalization(axis = 3, name = bn_name_base + '2b')(X)\n",
        "    X = Activation('relu')(X)\n",
        "\n",
        "\n",
        "    # Third layer\n",
        "    X = Conv2D(filters = F3, kernel_size = (1, 1), strides = (1,1), padding = 'valid', name = conv_name_base + '2c')(X)\n",
        "    X = BatchNormalization(axis = 3, name = bn_name_base + '2c')(X)\n",
        "\n",
        "\n",
        "    ##### SHORTCUT PATH #### \n",
        "    X_shortcut = Conv2D(filters = F3, kernel_size = (1, 1), strides = (s,s), padding = 'valid', name = conv_name_base + '1')(X_shortcut)\n",
        "    X_shortcut = BatchNormalization(axis = 3, name = bn_name_base + '1')(X_shortcut)\n",
        "\n",
        "    # Final step: Add shortcut value here, and pass it through a RELU activation \n",
        "    X = Add()([X, X_shortcut])\n",
        "    X = Activation('relu')(X)\n",
        "    \n",
        "    \n",
        "    return X"
      ],
      "metadata": {
        "id": "ecfdtPVGDn6u"
      },
      "execution_count": 20,
      "outputs": []
    },
    {
      "cell_type": "code",
      "source": [
        "#Each ResNet block is either 2 layer deep\n",
        "def ResNet50(input_shape=(224, 224, 3), classes=3):\n",
        "    \"\"\"\n",
        "    Implementation of the ResNet50 architecture:\n",
        "    CONV2D -> BATCHNORM -> RELU -> MAXPOOL -> CONVBLOCK -> IDBLOCK*2 -> CONVBLOCK -> IDBLOCK*3\n",
        "    -> CONVBLOCK -> IDBLOCK*5 -> CONVBLOCK -> IDBLOCK*2 -> AVGPOOL -> TOPLAYER\n",
        "\n",
        "    \"\"\"\n",
        "\n",
        "    # Define the input as a tensor with shape input_shape\n",
        "    X_input = Input(input_shape)\n",
        "\n",
        "    # Zero-Padding\n",
        "    X = ZeroPadding2D((3, 3))(X_input) #3,3 padding\n",
        "\n",
        "    # Stage 1\n",
        "    X = Conv2D(64, (7, 7), strides=(2, 2), name='conv1')(X) #64 filters of 7*7 \n",
        "    X = BatchNormalization(axis=3, name='bn_conv1')(X) #batchnorm applied on channels\n",
        "    X = Activation('relu')(X)\n",
        "    X = MaxPooling2D((3, 3), strides=(2, 2))(X) #window size is 3*3\n",
        "\n",
        "    # Stage 2\n",
        "    X = convolutional_block(X, f=3, filters=[64, 64, 256], stage=2, block='a', s=1)\n",
        "    # convolutional_block is a function defined above. Convolutional_block have 3 layers.\n",
        "    #filters=[64, 64, 256] first 64 is for 1st layer and 2nd 64 is for 2nd layer and 256 is for 3rd layer of convultional block   \n",
        "    # below are the conv layers from convolutional_block function\n",
        "    #X = Conv2D(F1, (1, 1), strides = (s,s), name = conv_name_base + '2a')(X)\n",
        "    #X = Conv2D(F2, kernel_size = (f, f), strides = (1,1), padding = 'same', name = conv_name_base + '2b')(X)\n",
        "    #X = Conv2D(F3, (1, 1), strides = (s,s), name = conv_name_base + '2a')(X)\n",
        "   \n",
        "    X = identity_block(X, 3, [64, 64, 256], stage=2, block='b') \n",
        "    #X = Conv2D(filters = F1, kernel_size = (1, 1), strides = (1,1), padding = 'valid', name = conv_name_base + '2a')(X)\n",
        "    #X = Conv2D(filters = F2, kernel_size = (f, f), strides = (1,1), padding = 'same', name = conv_name_base + '2b')(X)\n",
        "    #X = Conv2D(filters = F3, kernel_size = (1, 1), strides = (1,1), padding = 'valid', name = conv_name_base + '2c')(X)\n",
        "  \n",
        "    X = identity_block(X, 3, [64, 64, 256], stage=2, block='c')\n",
        "    #X = Conv2D(filters = F1, kernel_size = (1, 1), strides = (1,1), padding = 'valid', name = conv_name_base + '2a')(X)\n",
        "    #X = Conv2D(filters = F2, kernel_size = (f, f), strides = (1,1), padding = 'same', name = conv_name_base + '2b')(X)\n",
        "    #X = Conv2D(filters = F3, kernel_size = (1, 1), strides = (1,1), padding = 'valid', name = conv_name_base + '2c')(X)\n",
        "\n",
        "\n",
        "    ### START CODE HERE ###\n",
        "\n",
        "    # Stage 3 \n",
        "    X = convolutional_block(X, f = 3, filters = [128, 128, 512], stage = 3, block='a', s = 2)\n",
        "    X = identity_block(X, 3, [128, 128, 512], stage=3, block='b')\n",
        "    X = identity_block(X, 3, [128, 128, 512], stage=3, block='c')\n",
        "    X = identity_block(X, 3, [128, 128, 512], stage=3, block='d')\n",
        "\n",
        "    # Stage 4 \n",
        "    X = convolutional_block(X, f = 3, filters = [256, 256, 1024], stage = 4, block='a', s = 2)\n",
        "    X = identity_block(X, 3, [256, 256, 1024], stage=4, block='b')\n",
        "    X = identity_block(X, 3, [256, 256, 1024], stage=4, block='c')\n",
        "    X = identity_block(X, 3, [256, 256, 1024], stage=4, block='d')\n",
        "    X = identity_block(X, 3, [256, 256, 1024], stage=4, block='e')\n",
        "    X = identity_block(X, 3, [256, 256, 1024], stage=4, block='f')\n",
        "\n",
        "    # Stage 5 \n",
        "    X = convolutional_block(X, f = 3, filters = [512, 512, 2048], stage = 5, block='a', s = 2)\n",
        "    X = identity_block(X, 3, [512, 512, 2048], stage=5, block='b')\n",
        "    X = identity_block(X, 3, [512, 512, 2048], stage=5, block='c')\n",
        "\n",
        "    # AVGPOOL \n",
        "    X = AveragePooling2D((2,2), name=\"avg_pool\")(X)\n",
        "\n",
        "    ### END CODE HERE ###\n",
        "\n",
        "    # output layer\n",
        "    X = Flatten()(X)\n",
        "    X = Dense(classes, activation='softmax', name='fc' + str(classes), kernel_initializer = glorot_uniform(seed=0))(X)\n",
        "    \n",
        "    \n",
        "    # Create model\n",
        "    model = Model(inputs = X_input, outputs = X, name='ResNet50')\n",
        "\n",
        "    return model"
      ],
      "metadata": {
        "id": "1oV9L1tsDumu"
      },
      "execution_count": 21,
      "outputs": []
    },
    {
      "cell_type": "code",
      "source": [
        "model = ResNet50(input_shape = (224, 224, 3), classes = 3)"
      ],
      "metadata": {
        "id": "HJTpGh88D2mO"
      },
      "execution_count": 22,
      "outputs": []
    },
    {
      "cell_type": "code",
      "source": [
        "model.compile(optimizer='adam', loss='categorical_crossentropy', metrics=['accuracy'])"
      ],
      "metadata": {
        "id": "lVuq-tAtD7H2"
      },
      "execution_count": 23,
      "outputs": []
    },
    {
      "cell_type": "code",
      "source": [
        "model.summary()"
      ],
      "metadata": {
        "colab": {
          "base_uri": "https://localhost:8080/"
        },
        "id": "C8OOafAZEFRm",
        "outputId": "2b4d275b-a048-4eab-f6e7-6a53ef51102f"
      },
      "execution_count": 24,
      "outputs": [
        {
          "output_type": "stream",
          "name": "stdout",
          "text": [
            "Model: \"ResNet50\"\n",
            "__________________________________________________________________________________________________\n",
            " Layer (type)                   Output Shape         Param #     Connected to                     \n",
            "==================================================================================================\n",
            " input_1 (InputLayer)           [(None, 224, 224, 3  0           []                               \n",
            "                                )]                                                                \n",
            "                                                                                                  \n",
            " zero_padding2d (ZeroPadding2D)  (None, 230, 230, 3)  0          ['input_1[0][0]']                \n",
            "                                                                                                  \n",
            " conv1 (Conv2D)                 (None, 112, 112, 64  9472        ['zero_padding2d[0][0]']         \n",
            "                                )                                                                 \n",
            "                                                                                                  \n",
            " bn_conv1 (BatchNormalization)  (None, 112, 112, 64  256         ['conv1[0][0]']                  \n",
            "                                )                                                                 \n",
            "                                                                                                  \n",
            " activation (Activation)        (None, 112, 112, 64  0           ['bn_conv1[0][0]']               \n",
            "                                )                                                                 \n",
            "                                                                                                  \n",
            " max_pooling2d (MaxPooling2D)   (None, 55, 55, 64)   0           ['activation[0][0]']             \n",
            "                                                                                                  \n",
            " res2a_branch2a (Conv2D)        (None, 55, 55, 64)   4160        ['max_pooling2d[0][0]']          \n",
            "                                                                                                  \n",
            " bn2a_branch2a (BatchNormalizat  (None, 55, 55, 64)  256         ['res2a_branch2a[0][0]']         \n",
            " ion)                                                                                             \n",
            "                                                                                                  \n",
            " activation_1 (Activation)      (None, 55, 55, 64)   0           ['bn2a_branch2a[0][0]']          \n",
            "                                                                                                  \n",
            " res2a_branch2b (Conv2D)        (None, 55, 55, 64)   36928       ['activation_1[0][0]']           \n",
            "                                                                                                  \n",
            " bn2a_branch2b (BatchNormalizat  (None, 55, 55, 64)  256         ['res2a_branch2b[0][0]']         \n",
            " ion)                                                                                             \n",
            "                                                                                                  \n",
            " activation_2 (Activation)      (None, 55, 55, 64)   0           ['bn2a_branch2b[0][0]']          \n",
            "                                                                                                  \n",
            " res2a_branch2c (Conv2D)        (None, 55, 55, 256)  16640       ['activation_2[0][0]']           \n",
            "                                                                                                  \n",
            " res2a_branch1 (Conv2D)         (None, 55, 55, 256)  16640       ['max_pooling2d[0][0]']          \n",
            "                                                                                                  \n",
            " bn2a_branch2c (BatchNormalizat  (None, 55, 55, 256)  1024       ['res2a_branch2c[0][0]']         \n",
            " ion)                                                                                             \n",
            "                                                                                                  \n",
            " bn2a_branch1 (BatchNormalizati  (None, 55, 55, 256)  1024       ['res2a_branch1[0][0]']          \n",
            " on)                                                                                              \n",
            "                                                                                                  \n",
            " add (Add)                      (None, 55, 55, 256)  0           ['bn2a_branch2c[0][0]',          \n",
            "                                                                  'bn2a_branch1[0][0]']           \n",
            "                                                                                                  \n",
            " activation_3 (Activation)      (None, 55, 55, 256)  0           ['add[0][0]']                    \n",
            "                                                                                                  \n",
            " res2b_branch2a (Conv2D)        (None, 55, 55, 64)   16448       ['activation_3[0][0]']           \n",
            "                                                                                                  \n",
            " bn2b_branch2a (BatchNormalizat  (None, 55, 55, 64)  256         ['res2b_branch2a[0][0]']         \n",
            " ion)                                                                                             \n",
            "                                                                                                  \n",
            " activation_4 (Activation)      (None, 55, 55, 64)   0           ['bn2b_branch2a[0][0]']          \n",
            "                                                                                                  \n",
            " res2b_branch2b (Conv2D)        (None, 55, 55, 64)   36928       ['activation_4[0][0]']           \n",
            "                                                                                                  \n",
            " bn2b_branch2b (BatchNormalizat  (None, 55, 55, 64)  256         ['res2b_branch2b[0][0]']         \n",
            " ion)                                                                                             \n",
            "                                                                                                  \n",
            " activation_5 (Activation)      (None, 55, 55, 64)   0           ['bn2b_branch2b[0][0]']          \n",
            "                                                                                                  \n",
            " res2b_branch2c (Conv2D)        (None, 55, 55, 256)  16640       ['activation_5[0][0]']           \n",
            "                                                                                                  \n",
            " bn2b_branch2c (BatchNormalizat  (None, 55, 55, 256)  1024       ['res2b_branch2c[0][0]']         \n",
            " ion)                                                                                             \n",
            "                                                                                                  \n",
            " add_1 (Add)                    (None, 55, 55, 256)  0           ['bn2b_branch2c[0][0]',          \n",
            "                                                                  'activation_3[0][0]']           \n",
            "                                                                                                  \n",
            " activation_6 (Activation)      (None, 55, 55, 256)  0           ['add_1[0][0]']                  \n",
            "                                                                                                  \n",
            " res2c_branch2a (Conv2D)        (None, 55, 55, 64)   16448       ['activation_6[0][0]']           \n",
            "                                                                                                  \n",
            " bn2c_branch2a (BatchNormalizat  (None, 55, 55, 64)  256         ['res2c_branch2a[0][0]']         \n",
            " ion)                                                                                             \n",
            "                                                                                                  \n",
            " activation_7 (Activation)      (None, 55, 55, 64)   0           ['bn2c_branch2a[0][0]']          \n",
            "                                                                                                  \n",
            " res2c_branch2b (Conv2D)        (None, 55, 55, 64)   36928       ['activation_7[0][0]']           \n",
            "                                                                                                  \n",
            " bn2c_branch2b (BatchNormalizat  (None, 55, 55, 64)  256         ['res2c_branch2b[0][0]']         \n",
            " ion)                                                                                             \n",
            "                                                                                                  \n",
            " activation_8 (Activation)      (None, 55, 55, 64)   0           ['bn2c_branch2b[0][0]']          \n",
            "                                                                                                  \n",
            " res2c_branch2c (Conv2D)        (None, 55, 55, 256)  16640       ['activation_8[0][0]']           \n",
            "                                                                                                  \n",
            " bn2c_branch2c (BatchNormalizat  (None, 55, 55, 256)  1024       ['res2c_branch2c[0][0]']         \n",
            " ion)                                                                                             \n",
            "                                                                                                  \n",
            " add_2 (Add)                    (None, 55, 55, 256)  0           ['bn2c_branch2c[0][0]',          \n",
            "                                                                  'activation_6[0][0]']           \n",
            "                                                                                                  \n",
            " activation_9 (Activation)      (None, 55, 55, 256)  0           ['add_2[0][0]']                  \n",
            "                                                                                                  \n",
            " res3a_branch2a (Conv2D)        (None, 28, 28, 128)  32896       ['activation_9[0][0]']           \n",
            "                                                                                                  \n",
            " bn3a_branch2a (BatchNormalizat  (None, 28, 28, 128)  512        ['res3a_branch2a[0][0]']         \n",
            " ion)                                                                                             \n",
            "                                                                                                  \n",
            " activation_10 (Activation)     (None, 28, 28, 128)  0           ['bn3a_branch2a[0][0]']          \n",
            "                                                                                                  \n",
            " res3a_branch2b (Conv2D)        (None, 28, 28, 128)  147584      ['activation_10[0][0]']          \n",
            "                                                                                                  \n",
            " bn3a_branch2b (BatchNormalizat  (None, 28, 28, 128)  512        ['res3a_branch2b[0][0]']         \n",
            " ion)                                                                                             \n",
            "                                                                                                  \n",
            " activation_11 (Activation)     (None, 28, 28, 128)  0           ['bn3a_branch2b[0][0]']          \n",
            "                                                                                                  \n",
            " res3a_branch2c (Conv2D)        (None, 28, 28, 512)  66048       ['activation_11[0][0]']          \n",
            "                                                                                                  \n",
            " res3a_branch1 (Conv2D)         (None, 28, 28, 512)  131584      ['activation_9[0][0]']           \n",
            "                                                                                                  \n",
            " bn3a_branch2c (BatchNormalizat  (None, 28, 28, 512)  2048       ['res3a_branch2c[0][0]']         \n",
            " ion)                                                                                             \n",
            "                                                                                                  \n",
            " bn3a_branch1 (BatchNormalizati  (None, 28, 28, 512)  2048       ['res3a_branch1[0][0]']          \n",
            " on)                                                                                              \n",
            "                                                                                                  \n",
            " add_3 (Add)                    (None, 28, 28, 512)  0           ['bn3a_branch2c[0][0]',          \n",
            "                                                                  'bn3a_branch1[0][0]']           \n",
            "                                                                                                  \n",
            " activation_12 (Activation)     (None, 28, 28, 512)  0           ['add_3[0][0]']                  \n",
            "                                                                                                  \n",
            " res3b_branch2a (Conv2D)        (None, 28, 28, 128)  65664       ['activation_12[0][0]']          \n",
            "                                                                                                  \n",
            " bn3b_branch2a (BatchNormalizat  (None, 28, 28, 128)  512        ['res3b_branch2a[0][0]']         \n",
            " ion)                                                                                             \n",
            "                                                                                                  \n",
            " activation_13 (Activation)     (None, 28, 28, 128)  0           ['bn3b_branch2a[0][0]']          \n",
            "                                                                                                  \n",
            " res3b_branch2b (Conv2D)        (None, 28, 28, 128)  147584      ['activation_13[0][0]']          \n",
            "                                                                                                  \n",
            " bn3b_branch2b (BatchNormalizat  (None, 28, 28, 128)  512        ['res3b_branch2b[0][0]']         \n",
            " ion)                                                                                             \n",
            "                                                                                                  \n",
            " activation_14 (Activation)     (None, 28, 28, 128)  0           ['bn3b_branch2b[0][0]']          \n",
            "                                                                                                  \n",
            " res3b_branch2c (Conv2D)        (None, 28, 28, 512)  66048       ['activation_14[0][0]']          \n",
            "                                                                                                  \n",
            " bn3b_branch2c (BatchNormalizat  (None, 28, 28, 512)  2048       ['res3b_branch2c[0][0]']         \n",
            " ion)                                                                                             \n",
            "                                                                                                  \n",
            " add_4 (Add)                    (None, 28, 28, 512)  0           ['bn3b_branch2c[0][0]',          \n",
            "                                                                  'activation_12[0][0]']          \n",
            "                                                                                                  \n",
            " activation_15 (Activation)     (None, 28, 28, 512)  0           ['add_4[0][0]']                  \n",
            "                                                                                                  \n",
            " res3c_branch2a (Conv2D)        (None, 28, 28, 128)  65664       ['activation_15[0][0]']          \n",
            "                                                                                                  \n",
            " bn3c_branch2a (BatchNormalizat  (None, 28, 28, 128)  512        ['res3c_branch2a[0][0]']         \n",
            " ion)                                                                                             \n",
            "                                                                                                  \n",
            " activation_16 (Activation)     (None, 28, 28, 128)  0           ['bn3c_branch2a[0][0]']          \n",
            "                                                                                                  \n",
            " res3c_branch2b (Conv2D)        (None, 28, 28, 128)  147584      ['activation_16[0][0]']          \n",
            "                                                                                                  \n",
            " bn3c_branch2b (BatchNormalizat  (None, 28, 28, 128)  512        ['res3c_branch2b[0][0]']         \n",
            " ion)                                                                                             \n",
            "                                                                                                  \n",
            " activation_17 (Activation)     (None, 28, 28, 128)  0           ['bn3c_branch2b[0][0]']          \n",
            "                                                                                                  \n",
            " res3c_branch2c (Conv2D)        (None, 28, 28, 512)  66048       ['activation_17[0][0]']          \n",
            "                                                                                                  \n",
            " bn3c_branch2c (BatchNormalizat  (None, 28, 28, 512)  2048       ['res3c_branch2c[0][0]']         \n",
            " ion)                                                                                             \n",
            "                                                                                                  \n",
            " add_5 (Add)                    (None, 28, 28, 512)  0           ['bn3c_branch2c[0][0]',          \n",
            "                                                                  'activation_15[0][0]']          \n",
            "                                                                                                  \n",
            " activation_18 (Activation)     (None, 28, 28, 512)  0           ['add_5[0][0]']                  \n",
            "                                                                                                  \n",
            " res3d_branch2a (Conv2D)        (None, 28, 28, 128)  65664       ['activation_18[0][0]']          \n",
            "                                                                                                  \n",
            " bn3d_branch2a (BatchNormalizat  (None, 28, 28, 128)  512        ['res3d_branch2a[0][0]']         \n",
            " ion)                                                                                             \n",
            "                                                                                                  \n",
            " activation_19 (Activation)     (None, 28, 28, 128)  0           ['bn3d_branch2a[0][0]']          \n",
            "                                                                                                  \n",
            " res3d_branch2b (Conv2D)        (None, 28, 28, 128)  147584      ['activation_19[0][0]']          \n",
            "                                                                                                  \n",
            " bn3d_branch2b (BatchNormalizat  (None, 28, 28, 128)  512        ['res3d_branch2b[0][0]']         \n",
            " ion)                                                                                             \n",
            "                                                                                                  \n",
            " activation_20 (Activation)     (None, 28, 28, 128)  0           ['bn3d_branch2b[0][0]']          \n",
            "                                                                                                  \n",
            " res3d_branch2c (Conv2D)        (None, 28, 28, 512)  66048       ['activation_20[0][0]']          \n",
            "                                                                                                  \n",
            " bn3d_branch2c (BatchNormalizat  (None, 28, 28, 512)  2048       ['res3d_branch2c[0][0]']         \n",
            " ion)                                                                                             \n",
            "                                                                                                  \n",
            " add_6 (Add)                    (None, 28, 28, 512)  0           ['bn3d_branch2c[0][0]',          \n",
            "                                                                  'activation_18[0][0]']          \n",
            "                                                                                                  \n",
            " activation_21 (Activation)     (None, 28, 28, 512)  0           ['add_6[0][0]']                  \n",
            "                                                                                                  \n",
            " res4a_branch2a (Conv2D)        (None, 14, 14, 256)  131328      ['activation_21[0][0]']          \n",
            "                                                                                                  \n",
            " bn4a_branch2a (BatchNormalizat  (None, 14, 14, 256)  1024       ['res4a_branch2a[0][0]']         \n",
            " ion)                                                                                             \n",
            "                                                                                                  \n",
            " activation_22 (Activation)     (None, 14, 14, 256)  0           ['bn4a_branch2a[0][0]']          \n",
            "                                                                                                  \n",
            " res4a_branch2b (Conv2D)        (None, 14, 14, 256)  590080      ['activation_22[0][0]']          \n",
            "                                                                                                  \n",
            " bn4a_branch2b (BatchNormalizat  (None, 14, 14, 256)  1024       ['res4a_branch2b[0][0]']         \n",
            " ion)                                                                                             \n",
            "                                                                                                  \n",
            " activation_23 (Activation)     (None, 14, 14, 256)  0           ['bn4a_branch2b[0][0]']          \n",
            "                                                                                                  \n",
            " res4a_branch2c (Conv2D)        (None, 14, 14, 1024  263168      ['activation_23[0][0]']          \n",
            "                                )                                                                 \n",
            "                                                                                                  \n",
            " res4a_branch1 (Conv2D)         (None, 14, 14, 1024  525312      ['activation_21[0][0]']          \n",
            "                                )                                                                 \n",
            "                                                                                                  \n",
            " bn4a_branch2c (BatchNormalizat  (None, 14, 14, 1024  4096       ['res4a_branch2c[0][0]']         \n",
            " ion)                           )                                                                 \n",
            "                                                                                                  \n",
            " bn4a_branch1 (BatchNormalizati  (None, 14, 14, 1024  4096       ['res4a_branch1[0][0]']          \n",
            " on)                            )                                                                 \n",
            "                                                                                                  \n",
            " add_7 (Add)                    (None, 14, 14, 1024  0           ['bn4a_branch2c[0][0]',          \n",
            "                                )                                 'bn4a_branch1[0][0]']           \n",
            "                                                                                                  \n",
            " activation_24 (Activation)     (None, 14, 14, 1024  0           ['add_7[0][0]']                  \n",
            "                                )                                                                 \n",
            "                                                                                                  \n",
            " res4b_branch2a (Conv2D)        (None, 14, 14, 256)  262400      ['activation_24[0][0]']          \n",
            "                                                                                                  \n",
            " bn4b_branch2a (BatchNormalizat  (None, 14, 14, 256)  1024       ['res4b_branch2a[0][0]']         \n",
            " ion)                                                                                             \n",
            "                                                                                                  \n",
            " activation_25 (Activation)     (None, 14, 14, 256)  0           ['bn4b_branch2a[0][0]']          \n",
            "                                                                                                  \n",
            " res4b_branch2b (Conv2D)        (None, 14, 14, 256)  590080      ['activation_25[0][0]']          \n",
            "                                                                                                  \n",
            " bn4b_branch2b (BatchNormalizat  (None, 14, 14, 256)  1024       ['res4b_branch2b[0][0]']         \n",
            " ion)                                                                                             \n",
            "                                                                                                  \n",
            " activation_26 (Activation)     (None, 14, 14, 256)  0           ['bn4b_branch2b[0][0]']          \n",
            "                                                                                                  \n",
            " res4b_branch2c (Conv2D)        (None, 14, 14, 1024  263168      ['activation_26[0][0]']          \n",
            "                                )                                                                 \n",
            "                                                                                                  \n",
            " bn4b_branch2c (BatchNormalizat  (None, 14, 14, 1024  4096       ['res4b_branch2c[0][0]']         \n",
            " ion)                           )                                                                 \n",
            "                                                                                                  \n",
            " add_8 (Add)                    (None, 14, 14, 1024  0           ['bn4b_branch2c[0][0]',          \n",
            "                                )                                 'activation_24[0][0]']          \n",
            "                                                                                                  \n",
            " activation_27 (Activation)     (None, 14, 14, 1024  0           ['add_8[0][0]']                  \n",
            "                                )                                                                 \n",
            "                                                                                                  \n",
            " res4c_branch2a (Conv2D)        (None, 14, 14, 256)  262400      ['activation_27[0][0]']          \n",
            "                                                                                                  \n",
            " bn4c_branch2a (BatchNormalizat  (None, 14, 14, 256)  1024       ['res4c_branch2a[0][0]']         \n",
            " ion)                                                                                             \n",
            "                                                                                                  \n",
            " activation_28 (Activation)     (None, 14, 14, 256)  0           ['bn4c_branch2a[0][0]']          \n",
            "                                                                                                  \n",
            " res4c_branch2b (Conv2D)        (None, 14, 14, 256)  590080      ['activation_28[0][0]']          \n",
            "                                                                                                  \n",
            " bn4c_branch2b (BatchNormalizat  (None, 14, 14, 256)  1024       ['res4c_branch2b[0][0]']         \n",
            " ion)                                                                                             \n",
            "                                                                                                  \n",
            " activation_29 (Activation)     (None, 14, 14, 256)  0           ['bn4c_branch2b[0][0]']          \n",
            "                                                                                                  \n",
            " res4c_branch2c (Conv2D)        (None, 14, 14, 1024  263168      ['activation_29[0][0]']          \n",
            "                                )                                                                 \n",
            "                                                                                                  \n",
            " bn4c_branch2c (BatchNormalizat  (None, 14, 14, 1024  4096       ['res4c_branch2c[0][0]']         \n",
            " ion)                           )                                                                 \n",
            "                                                                                                  \n",
            " add_9 (Add)                    (None, 14, 14, 1024  0           ['bn4c_branch2c[0][0]',          \n",
            "                                )                                 'activation_27[0][0]']          \n",
            "                                                                                                  \n",
            " activation_30 (Activation)     (None, 14, 14, 1024  0           ['add_9[0][0]']                  \n",
            "                                )                                                                 \n",
            "                                                                                                  \n",
            " res4d_branch2a (Conv2D)        (None, 14, 14, 256)  262400      ['activation_30[0][0]']          \n",
            "                                                                                                  \n",
            " bn4d_branch2a (BatchNormalizat  (None, 14, 14, 256)  1024       ['res4d_branch2a[0][0]']         \n",
            " ion)                                                                                             \n",
            "                                                                                                  \n",
            " activation_31 (Activation)     (None, 14, 14, 256)  0           ['bn4d_branch2a[0][0]']          \n",
            "                                                                                                  \n",
            " res4d_branch2b (Conv2D)        (None, 14, 14, 256)  590080      ['activation_31[0][0]']          \n",
            "                                                                                                  \n",
            " bn4d_branch2b (BatchNormalizat  (None, 14, 14, 256)  1024       ['res4d_branch2b[0][0]']         \n",
            " ion)                                                                                             \n",
            "                                                                                                  \n",
            " activation_32 (Activation)     (None, 14, 14, 256)  0           ['bn4d_branch2b[0][0]']          \n",
            "                                                                                                  \n",
            " res4d_branch2c (Conv2D)        (None, 14, 14, 1024  263168      ['activation_32[0][0]']          \n",
            "                                )                                                                 \n",
            "                                                                                                  \n",
            " bn4d_branch2c (BatchNormalizat  (None, 14, 14, 1024  4096       ['res4d_branch2c[0][0]']         \n",
            " ion)                           )                                                                 \n",
            "                                                                                                  \n",
            " add_10 (Add)                   (None, 14, 14, 1024  0           ['bn4d_branch2c[0][0]',          \n",
            "                                )                                 'activation_30[0][0]']          \n",
            "                                                                                                  \n",
            " activation_33 (Activation)     (None, 14, 14, 1024  0           ['add_10[0][0]']                 \n",
            "                                )                                                                 \n",
            "                                                                                                  \n",
            " res4e_branch2a (Conv2D)        (None, 14, 14, 256)  262400      ['activation_33[0][0]']          \n",
            "                                                                                                  \n",
            " bn4e_branch2a (BatchNormalizat  (None, 14, 14, 256)  1024       ['res4e_branch2a[0][0]']         \n",
            " ion)                                                                                             \n",
            "                                                                                                  \n",
            " activation_34 (Activation)     (None, 14, 14, 256)  0           ['bn4e_branch2a[0][0]']          \n",
            "                                                                                                  \n",
            " res4e_branch2b (Conv2D)        (None, 14, 14, 256)  590080      ['activation_34[0][0]']          \n",
            "                                                                                                  \n",
            " bn4e_branch2b (BatchNormalizat  (None, 14, 14, 256)  1024       ['res4e_branch2b[0][0]']         \n",
            " ion)                                                                                             \n",
            "                                                                                                  \n",
            " activation_35 (Activation)     (None, 14, 14, 256)  0           ['bn4e_branch2b[0][0]']          \n",
            "                                                                                                  \n",
            " res4e_branch2c (Conv2D)        (None, 14, 14, 1024  263168      ['activation_35[0][0]']          \n",
            "                                )                                                                 \n",
            "                                                                                                  \n",
            " bn4e_branch2c (BatchNormalizat  (None, 14, 14, 1024  4096       ['res4e_branch2c[0][0]']         \n",
            " ion)                           )                                                                 \n",
            "                                                                                                  \n",
            " add_11 (Add)                   (None, 14, 14, 1024  0           ['bn4e_branch2c[0][0]',          \n",
            "                                )                                 'activation_33[0][0]']          \n",
            "                                                                                                  \n",
            " activation_36 (Activation)     (None, 14, 14, 1024  0           ['add_11[0][0]']                 \n",
            "                                )                                                                 \n",
            "                                                                                                  \n",
            " res4f_branch2a (Conv2D)        (None, 14, 14, 256)  262400      ['activation_36[0][0]']          \n",
            "                                                                                                  \n",
            " bn4f_branch2a (BatchNormalizat  (None, 14, 14, 256)  1024       ['res4f_branch2a[0][0]']         \n",
            " ion)                                                                                             \n",
            "                                                                                                  \n",
            " activation_37 (Activation)     (None, 14, 14, 256)  0           ['bn4f_branch2a[0][0]']          \n",
            "                                                                                                  \n",
            " res4f_branch2b (Conv2D)        (None, 14, 14, 256)  590080      ['activation_37[0][0]']          \n",
            "                                                                                                  \n",
            " bn4f_branch2b (BatchNormalizat  (None, 14, 14, 256)  1024       ['res4f_branch2b[0][0]']         \n",
            " ion)                                                                                             \n",
            "                                                                                                  \n",
            " activation_38 (Activation)     (None, 14, 14, 256)  0           ['bn4f_branch2b[0][0]']          \n",
            "                                                                                                  \n",
            " res4f_branch2c (Conv2D)        (None, 14, 14, 1024  263168      ['activation_38[0][0]']          \n",
            "                                )                                                                 \n",
            "                                                                                                  \n",
            " bn4f_branch2c (BatchNormalizat  (None, 14, 14, 1024  4096       ['res4f_branch2c[0][0]']         \n",
            " ion)                           )                                                                 \n",
            "                                                                                                  \n",
            " add_12 (Add)                   (None, 14, 14, 1024  0           ['bn4f_branch2c[0][0]',          \n",
            "                                )                                 'activation_36[0][0]']          \n",
            "                                                                                                  \n",
            " activation_39 (Activation)     (None, 14, 14, 1024  0           ['add_12[0][0]']                 \n",
            "                                )                                                                 \n",
            "                                                                                                  \n",
            " res5a_branch2a (Conv2D)        (None, 7, 7, 512)    524800      ['activation_39[0][0]']          \n",
            "                                                                                                  \n",
            " bn5a_branch2a (BatchNormalizat  (None, 7, 7, 512)   2048        ['res5a_branch2a[0][0]']         \n",
            " ion)                                                                                             \n",
            "                                                                                                  \n",
            " activation_40 (Activation)     (None, 7, 7, 512)    0           ['bn5a_branch2a[0][0]']          \n",
            "                                                                                                  \n",
            " res5a_branch2b (Conv2D)        (None, 7, 7, 512)    2359808     ['activation_40[0][0]']          \n",
            "                                                                                                  \n",
            " bn5a_branch2b (BatchNormalizat  (None, 7, 7, 512)   2048        ['res5a_branch2b[0][0]']         \n",
            " ion)                                                                                             \n",
            "                                                                                                  \n",
            " activation_41 (Activation)     (None, 7, 7, 512)    0           ['bn5a_branch2b[0][0]']          \n",
            "                                                                                                  \n",
            " res5a_branch2c (Conv2D)        (None, 7, 7, 2048)   1050624     ['activation_41[0][0]']          \n",
            "                                                                                                  \n",
            " res5a_branch1 (Conv2D)         (None, 7, 7, 2048)   2099200     ['activation_39[0][0]']          \n",
            "                                                                                                  \n",
            " bn5a_branch2c (BatchNormalizat  (None, 7, 7, 2048)  8192        ['res5a_branch2c[0][0]']         \n",
            " ion)                                                                                             \n",
            "                                                                                                  \n",
            " bn5a_branch1 (BatchNormalizati  (None, 7, 7, 2048)  8192        ['res5a_branch1[0][0]']          \n",
            " on)                                                                                              \n",
            "                                                                                                  \n",
            " add_13 (Add)                   (None, 7, 7, 2048)   0           ['bn5a_branch2c[0][0]',          \n",
            "                                                                  'bn5a_branch1[0][0]']           \n",
            "                                                                                                  \n",
            " activation_42 (Activation)     (None, 7, 7, 2048)   0           ['add_13[0][0]']                 \n",
            "                                                                                                  \n",
            " res5b_branch2a (Conv2D)        (None, 7, 7, 512)    1049088     ['activation_42[0][0]']          \n",
            "                                                                                                  \n",
            " bn5b_branch2a (BatchNormalizat  (None, 7, 7, 512)   2048        ['res5b_branch2a[0][0]']         \n",
            " ion)                                                                                             \n",
            "                                                                                                  \n",
            " activation_43 (Activation)     (None, 7, 7, 512)    0           ['bn5b_branch2a[0][0]']          \n",
            "                                                                                                  \n",
            " res5b_branch2b (Conv2D)        (None, 7, 7, 512)    2359808     ['activation_43[0][0]']          \n",
            "                                                                                                  \n",
            " bn5b_branch2b (BatchNormalizat  (None, 7, 7, 512)   2048        ['res5b_branch2b[0][0]']         \n",
            " ion)                                                                                             \n",
            "                                                                                                  \n",
            " activation_44 (Activation)     (None, 7, 7, 512)    0           ['bn5b_branch2b[0][0]']          \n",
            "                                                                                                  \n",
            " res5b_branch2c (Conv2D)        (None, 7, 7, 2048)   1050624     ['activation_44[0][0]']          \n",
            "                                                                                                  \n",
            " bn5b_branch2c (BatchNormalizat  (None, 7, 7, 2048)  8192        ['res5b_branch2c[0][0]']         \n",
            " ion)                                                                                             \n",
            "                                                                                                  \n",
            " add_14 (Add)                   (None, 7, 7, 2048)   0           ['bn5b_branch2c[0][0]',          \n",
            "                                                                  'activation_42[0][0]']          \n",
            "                                                                                                  \n",
            " activation_45 (Activation)     (None, 7, 7, 2048)   0           ['add_14[0][0]']                 \n",
            "                                                                                                  \n",
            " res5c_branch2a (Conv2D)        (None, 7, 7, 512)    1049088     ['activation_45[0][0]']          \n",
            "                                                                                                  \n",
            " bn5c_branch2a (BatchNormalizat  (None, 7, 7, 512)   2048        ['res5c_branch2a[0][0]']         \n",
            " ion)                                                                                             \n",
            "                                                                                                  \n",
            " activation_46 (Activation)     (None, 7, 7, 512)    0           ['bn5c_branch2a[0][0]']          \n",
            "                                                                                                  \n",
            " res5c_branch2b (Conv2D)        (None, 7, 7, 512)    2359808     ['activation_46[0][0]']          \n",
            "                                                                                                  \n",
            " bn5c_branch2b (BatchNormalizat  (None, 7, 7, 512)   2048        ['res5c_branch2b[0][0]']         \n",
            " ion)                                                                                             \n",
            "                                                                                                  \n",
            " activation_47 (Activation)     (None, 7, 7, 512)    0           ['bn5c_branch2b[0][0]']          \n",
            "                                                                                                  \n",
            " res5c_branch2c (Conv2D)        (None, 7, 7, 2048)   1050624     ['activation_47[0][0]']          \n",
            "                                                                                                  \n",
            " bn5c_branch2c (BatchNormalizat  (None, 7, 7, 2048)  8192        ['res5c_branch2c[0][0]']         \n",
            " ion)                                                                                             \n",
            "                                                                                                  \n",
            " add_15 (Add)                   (None, 7, 7, 2048)   0           ['bn5c_branch2c[0][0]',          \n",
            "                                                                  'activation_45[0][0]']          \n",
            "                                                                                                  \n",
            " activation_48 (Activation)     (None, 7, 7, 2048)   0           ['add_15[0][0]']                 \n",
            "                                                                                                  \n",
            " avg_pool (AveragePooling2D)    (None, 3, 3, 2048)   0           ['activation_48[0][0]']          \n",
            "                                                                                                  \n",
            " flatten (Flatten)              (None, 18432)        0           ['avg_pool[0][0]']               \n",
            "                                                                                                  \n",
            " fc3 (Dense)                    (None, 3)            55299       ['flatten[0][0]']                \n",
            "                                                                                                  \n",
            "==================================================================================================\n",
            "Total params: 23,643,011\n",
            "Trainable params: 23,589,891\n",
            "Non-trainable params: 53,120\n",
            "__________________________________________________________________________________________________\n"
          ]
        }
      ]
    },
    {
      "cell_type": "code",
      "source": [
        "model.fit(train_x, train_y, epochs = 50, batch_size = 32) "
      ],
      "metadata": {
        "colab": {
          "base_uri": "https://localhost:8080/"
        },
        "id": "CNVklv1qF2Ib",
        "outputId": "34a6df01-525c-4939-d8eb-abebffc4b32f"
      },
      "execution_count": 36,
      "outputs": [
        {
          "output_type": "stream",
          "name": "stdout",
          "text": [
            "Epoch 1/50\n",
            "12/12 [==============================] - 4s 328ms/step - loss: 1.7305 - accuracy: 0.5416\n",
            "Epoch 2/50\n",
            "12/12 [==============================] - 4s 333ms/step - loss: 1.3681 - accuracy: 0.4960\n",
            "Epoch 3/50\n",
            "12/12 [==============================] - 4s 337ms/step - loss: 1.2328 - accuracy: 0.5040\n",
            "Epoch 4/50\n",
            "12/12 [==============================] - 4s 337ms/step - loss: 0.9841 - accuracy: 0.6247\n",
            "Epoch 5/50\n",
            "12/12 [==============================] - 4s 336ms/step - loss: 0.8791 - accuracy: 0.6461\n",
            "Epoch 6/50\n",
            "12/12 [==============================] - 4s 332ms/step - loss: 0.7356 - accuracy: 0.7239\n",
            "Epoch 7/50\n",
            "12/12 [==============================] - 4s 328ms/step - loss: 0.6596 - accuracy: 0.7534\n",
            "Epoch 8/50\n",
            "12/12 [==============================] - 4s 325ms/step - loss: 0.5268 - accuracy: 0.8150\n",
            "Epoch 9/50\n",
            "12/12 [==============================] - 4s 322ms/step - loss: 0.4528 - accuracy: 0.8257\n",
            "Epoch 10/50\n",
            "12/12 [==============================] - 4s 320ms/step - loss: 0.3900 - accuracy: 0.8472\n",
            "Epoch 11/50\n",
            "12/12 [==============================] - 4s 319ms/step - loss: 0.3581 - accuracy: 0.8794\n",
            "Epoch 12/50\n",
            "12/12 [==============================] - 4s 317ms/step - loss: 0.2299 - accuracy: 0.9249\n",
            "Epoch 13/50\n",
            "12/12 [==============================] - 4s 317ms/step - loss: 0.1936 - accuracy: 0.9410\n",
            "Epoch 14/50\n",
            "12/12 [==============================] - 4s 316ms/step - loss: 0.2439 - accuracy: 0.9169\n",
            "Epoch 15/50\n",
            "12/12 [==============================] - 4s 317ms/step - loss: 0.1180 - accuracy: 0.9678\n",
            "Epoch 16/50\n",
            "12/12 [==============================] - 4s 316ms/step - loss: 0.1081 - accuracy: 0.9651\n",
            "Epoch 17/50\n",
            "12/12 [==============================] - 4s 316ms/step - loss: 0.0930 - accuracy: 0.9678\n",
            "Epoch 18/50\n",
            "12/12 [==============================] - 4s 316ms/step - loss: 0.0844 - accuracy: 0.9678\n",
            "Epoch 19/50\n",
            "12/12 [==============================] - 4s 317ms/step - loss: 0.1168 - accuracy: 0.9517\n",
            "Epoch 20/50\n",
            "12/12 [==============================] - 4s 318ms/step - loss: 0.1079 - accuracy: 0.9651\n",
            "Epoch 21/50\n",
            "12/12 [==============================] - 4s 316ms/step - loss: 0.0845 - accuracy: 0.9651\n",
            "Epoch 22/50\n",
            "12/12 [==============================] - 4s 319ms/step - loss: 0.0932 - accuracy: 0.9678\n",
            "Epoch 23/50\n",
            "12/12 [==============================] - 4s 320ms/step - loss: 0.1677 - accuracy: 0.9598\n",
            "Epoch 24/50\n",
            "12/12 [==============================] - 4s 323ms/step - loss: 0.6938 - accuracy: 0.8311\n",
            "Epoch 25/50\n",
            "12/12 [==============================] - 4s 323ms/step - loss: 0.7719 - accuracy: 0.7587\n",
            "Epoch 26/50\n",
            "12/12 [==============================] - 4s 323ms/step - loss: 0.8300 - accuracy: 0.7534\n",
            "Epoch 27/50\n",
            "12/12 [==============================] - 4s 324ms/step - loss: 0.5670 - accuracy: 0.8123\n",
            "Epoch 28/50\n",
            "12/12 [==============================] - 4s 323ms/step - loss: 0.3339 - accuracy: 0.8794\n",
            "Epoch 29/50\n",
            "12/12 [==============================] - 4s 323ms/step - loss: 0.2802 - accuracy: 0.9223\n",
            "Epoch 30/50\n",
            "12/12 [==============================] - 4s 323ms/step - loss: 0.2161 - accuracy: 0.9249\n",
            "Epoch 31/50\n",
            "12/12 [==============================] - 4s 327ms/step - loss: 0.1424 - accuracy: 0.9491\n",
            "Epoch 32/50\n",
            "12/12 [==============================] - 4s 324ms/step - loss: 0.1258 - accuracy: 0.9759\n",
            "Epoch 33/50\n",
            "12/12 [==============================] - 4s 323ms/step - loss: 0.1032 - accuracy: 0.9571\n",
            "Epoch 34/50\n",
            "12/12 [==============================] - 4s 321ms/step - loss: 0.0855 - accuracy: 0.9732\n",
            "Epoch 35/50\n",
            "12/12 [==============================] - 4s 323ms/step - loss: 0.0996 - accuracy: 0.9759\n",
            "Epoch 36/50\n",
            "12/12 [==============================] - 4s 318ms/step - loss: 0.0749 - accuracy: 0.9705\n",
            "Epoch 37/50\n",
            "12/12 [==============================] - 4s 319ms/step - loss: 0.0679 - accuracy: 0.9678\n",
            "Epoch 38/50\n",
            "12/12 [==============================] - 4s 318ms/step - loss: 0.0605 - accuracy: 0.9705\n",
            "Epoch 39/50\n",
            "12/12 [==============================] - 4s 319ms/step - loss: 0.0566 - accuracy: 0.9732\n",
            "Epoch 40/50\n",
            "12/12 [==============================] - 4s 318ms/step - loss: 0.0596 - accuracy: 0.9732\n",
            "Epoch 41/50\n",
            "12/12 [==============================] - 4s 318ms/step - loss: 0.0649 - accuracy: 0.9651\n",
            "Epoch 42/50\n",
            "12/12 [==============================] - 4s 319ms/step - loss: 0.0708 - accuracy: 0.9732\n",
            "Epoch 43/50\n",
            "12/12 [==============================] - 4s 319ms/step - loss: 0.0598 - accuracy: 0.9732\n",
            "Epoch 44/50\n",
            "12/12 [==============================] - 4s 320ms/step - loss: 0.0781 - accuracy: 0.9678\n",
            "Epoch 45/50\n",
            "12/12 [==============================] - 4s 320ms/step - loss: 0.0492 - accuracy: 0.9732\n",
            "Epoch 46/50\n",
            "12/12 [==============================] - 4s 320ms/step - loss: 0.0793 - accuracy: 0.9705\n",
            "Epoch 47/50\n",
            "12/12 [==============================] - 4s 320ms/step - loss: 0.0629 - accuracy: 0.9732\n",
            "Epoch 48/50\n",
            "12/12 [==============================] - 4s 321ms/step - loss: 0.0655 - accuracy: 0.9571\n",
            "Epoch 49/50\n",
            "12/12 [==============================] - 4s 321ms/step - loss: 0.1481 - accuracy: 0.9544\n",
            "Epoch 50/50\n",
            "12/12 [==============================] - 4s 321ms/step - loss: 0.1146 - accuracy: 0.9544\n"
          ]
        },
        {
          "output_type": "execute_result",
          "data": {
            "text/plain": [
              "<keras.callbacks.History at 0x7f96242eb2b0>"
            ]
          },
          "metadata": {},
          "execution_count": 36
        }
      ]
    },
    {
      "cell_type": "code",
      "source": [
        "preds = model.evaluate(test_x, test_y)\n",
        "print (\"Loss = \" + str(preds[0]))\n",
        "print (\"Test Accuracy = \" + str(preds[1]))"
      ],
      "metadata": {
        "colab": {
          "base_uri": "https://localhost:8080/"
        },
        "id": "OSwAsgynEIxu",
        "outputId": "1ef0203a-76c6-46be-97f4-19b5189a6b72"
      },
      "execution_count": 37,
      "outputs": [
        {
          "output_type": "stream",
          "name": "stdout",
          "text": [
            "1/1 [==============================] - 0s 108ms/step - loss: 2.4993 - accuracy: 0.5000\n",
            "Loss = 2.499295711517334\n",
            "Test Accuracy = 0.5\n"
          ]
        }
      ]
    },
    {
      "cell_type": "code",
      "source": [
        "from tensorflow.keras.preprocessing import image\n",
        "from matplotlib.pyplot import imread\n",
        "#img_path = 'test_room.jpg'\n",
        "img_path = '/content/drive/MyDrive/Resnet50/ResNet50-master/rooms_dataset/living_room/woman-2099465__340.jpg'\n",
        "img = image.load_img(img_path, target_size=(224, 224))\n",
        "x = image.img_to_array(img)\n",
        "x = np.expand_dims(x, axis=0)\n",
        "x = preprocess_input(x)\n",
        "print('Input image shape:', x.shape)\n",
        "my_image = imread(img_path)\n",
        "imshow(my_image)\n",
        "print(model.predict(x))"
      ],
      "metadata": {
        "colab": {
          "base_uri": "https://localhost:8080/",
          "height": 321
        },
        "id": "uklKVAuGFulQ",
        "outputId": "f8b52b25-52d5-4229-dd64-7c404b5c71a0"
      },
      "execution_count": 41,
      "outputs": [
        {
          "output_type": "stream",
          "name": "stdout",
          "text": [
            "Input image shape: (1, 224, 224, 3)\n",
            "1/1 [==============================] - 0s 79ms/step\n",
            "[[0. 1. 0.]]\n"
          ]
        },
        {
          "output_type": "display_data",
          "data": {
            "text/plain": [
              "<Figure size 432x288 with 1 Axes>"
            ],
            "image/png": "[encoded data removed]"
          },
          "metadata": {
            "needs_background": "light"
          }
        }
      ]
    },
    {
      "cell_type": "code",
      "source": [
        "``"
      ],
      "metadata": {
        "id": "7nOJtLz7IObC"
      },
      "execution_count": null,
      "outputs": []
    }
  ]
}