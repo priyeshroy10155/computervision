{
  "nbformat": 4,
  "nbformat_minor": 0,
  "metadata": {
    "colab": {
      "provenance": [],
      "include_colab_link": true
    },
    "kernelspec": {
      "name": "python3",
      "display_name": "Python 3"
    },
    "language_info": {
      "name": "python"
    },
    "accelerator": "GPU",
    "gpuClass": "standard"
  },
  "cells": [
    {
      "cell_type": "markdown",
      "metadata": {
        "id": "view-in-github",
        "colab_type": "text"
      },
      "source": [
        "<a href=\"https://colab.research.google.com/github/priyeshroy10155/computervision/blob/main/Binary_class_classification.ipynb\" target=\"_parent\"><img src=\"https://colab.research.google.com/assets/colab-badge.svg\" alt=\"Open In Colab\"/></a>"
      ]
    },
    {
      "cell_type": "markdown",
      "source": [
        "# Data Preprocessing"
      ],
      "metadata": {
        "id": "ue-4zvaUKUk4"
      }
    },
    {
      "cell_type": "code",
      "source": [
        "from google.colab import drive\n",
        "drive.mount('/content/drive')"
      ],
      "metadata": {
        "colab": {
          "base_uri": "https://localhost:8080/"
        },
        "id": "v6scrJN0Ka3T",
        "outputId": "894fb4dc-7ddb-4db5-c506-ee898a1175b3"
      },
      "execution_count": null,
      "outputs": [
        {
          "output_type": "stream",
          "name": "stdout",
          "text": [
            "Mounted at /content/drive\n"
          ]
        }
      ]
    },
    {
      "cell_type": "code",
      "execution_count": null,
      "metadata": {
        "colab": {
          "base_uri": "https://localhost:8080/"
        },
        "id": "qKtyqUnnKEbW",
        "outputId": "4b5c5111-43ea-481c-e5c0-a90ec49564ea"
      },
      "outputs": [
        {
          "output_type": "stream",
          "name": "stdout",
          "text": [
            "['dog', 'cat']\n",
            "Types of classes labels found:  2\n"
          ]
        }
      ],
      "source": [
        "import numpy as np\n",
        "import tensorflow as tf\n",
        "\n",
        "import numpy as np \n",
        "import pandas as pd \n",
        "import matplotlib.pyplot as plt\n",
        "import os\n",
        "\n",
        "dataset_path = os.listdir('/content/drive/MyDrive/Colab Notebooks/cat and dog')\n",
        "\n",
        "print (dataset_path)  #what kinds of classes are in this dataset\n",
        "\n",
        "print(\"Types of classes labels found: \", len(dataset_path))"
      ]
    },
    {
      "cell_type": "code",
      "source": [
        "class_labels = []\n",
        "\n",
        "for item in dataset_path:\n",
        " # Get all the file names\n",
        " all_classes = os.listdir('/content/drive/MyDrive/Colab Notebooks/cat and dog' + '/' +item)\n",
        " #print(all_classes)\n",
        "\n",
        " # Add them to the list\n",
        " for room in all_classes:\n",
        "    class_labels.append((item, str('dataset_path' + '/' +item) + '/' + room))\n",
        "    #print(class_labels[:5])"
      ],
      "metadata": {
        "id": "HoVN2f8JLQF3"
      },
      "execution_count": null,
      "outputs": []
    },
    {
      "cell_type": "code",
      "source": [
        "df = pd.DataFrame(data=class_labels, columns=['Labels', 'image'])\n",
        "print(df.head())\n",
        "print(df.tail())"
      ],
      "metadata": {
        "id": "ivWaXM6VLjME"
      },
      "execution_count": null,
      "outputs": []
    },
    {
      "cell_type": "code",
      "source": [
        "# Let's check how many samples for each category are present\n",
        "print(\"Total number of images in the dataset: \", len(df))\n",
        "\n",
        "label_count = df['Labels'].value_counts()\n",
        "print(label_count)"
      ],
      "metadata": {
        "colab": {
          "base_uri": "https://localhost:8080/"
        },
        "id": "E94EP4rLLzVD",
        "outputId": "9a755083-ccaf-4021-889b-e38f3c587e4e"
      },
      "execution_count": null,
      "outputs": [
        {
          "output_type": "stream",
          "name": "stdout",
          "text": [
            "Total number of images in the dataset:  320\n",
            "dog    160\n",
            "cat    160\n",
            "Name: Labels, dtype: int64\n"
          ]
        }
      ]
    },
    {
      "cell_type": "code",
      "source": [
        "import cv2\n",
        "path = '/content/drive/MyDrive/Colab Notebooks/cat and dog/'\n",
        "dataset_path = os.listdir('/content/drive/MyDrive/Colab Notebooks/cat and dog')\n",
        "\n",
        "im_size = 224\n",
        "\n",
        "images = []\n",
        "labels = []\n",
        "\n",
        "for i in dataset_path:\n",
        "    data_path = path + str(i)  \n",
        "    filenames = [i for i in os.listdir(data_path) ]\n",
        "   \n",
        "    for f in filenames:\n",
        "        img = cv2.imread(data_path + '/' + f)\n",
        "        img = cv2.resize(img, (im_size, im_size))\n",
        "        images.append(img)\n",
        "        labels.append(i)"
      ],
      "metadata": {
        "id": "Mcn894WGL1E5"
      },
      "execution_count": null,
      "outputs": []
    },
    {
      "cell_type": "code",
      "source": [
        "images"
      ],
      "metadata": {
        "id": "t52LTEEaMYGa"
      },
      "execution_count": null,
      "outputs": []
    },
    {
      "cell_type": "code",
      "source": [
        "#This model takes input images of shape (224, 224, 3), and the input data should range [0, 255]. \n",
        "\n",
        "images = np.array(images)\n",
        "\n",
        "images = images.astype('float32') / 255.0\n",
        "images.shape"
      ],
      "metadata": {
        "colab": {
          "base_uri": "https://localhost:8080/"
        },
        "id": "I80UNG-4MfS7",
        "outputId": "eec1c46c-d366-4491-d176-ece736f19961"
      },
      "execution_count": null,
      "outputs": [
        {
          "output_type": "execute_result",
          "data": {
            "text/plain": [
              "(320, 224, 224, 3)"
            ]
          },
          "metadata": {},
          "execution_count": 9
        }
      ]
    },
    {
      "cell_type": "code",
      "source": [
        "from sklearn.preprocessing import LabelEncoder , OneHotEncoder\n",
        "y=df['Labels'].values\n",
        "print(y)\n",
        "\n",
        "y_labelencoder = LabelEncoder ()\n",
        "y = y_labelencoder.fit_transform (y)\n",
        "print (y)"
      ],
      "metadata": {
        "id": "j7nrQBPhMuxX"
      },
      "execution_count": null,
      "outputs": []
    },
    {
      "cell_type": "code",
      "source": [
        "y=y.reshape(-1,1)\n",
        "y"
      ],
      "metadata": {
        "id": "ix2klZjbM57a"
      },
      "execution_count": null,
      "outputs": []
    },
    {
      "cell_type": "code",
      "source": [
        "from sklearn.compose import ColumnTransformer\n",
        "ct = ColumnTransformer([('my_ohe', OneHotEncoder(), [0])], remainder='passthrough')\n",
        "Y = ct.fit_transform(y) #.toarray()\n",
        "print(Y[:5])\n",
        "print(Y[-5:])"
      ],
      "metadata": {
        "colab": {
          "base_uri": "https://localhost:8080/"
        },
        "id": "PC7w1GZbM6-B",
        "outputId": "6bf3ca76-784e-45e7-d327-b3fc601d766c"
      },
      "execution_count": null,
      "outputs": [
        {
          "output_type": "stream",
          "name": "stdout",
          "text": [
            "[[0. 1.]\n",
            " [0. 1.]\n",
            " [0. 1.]\n",
            " [0. 1.]\n",
            " [0. 1.]]\n",
            "[[1. 0.]\n",
            " [1. 0.]\n",
            " [1. 0.]\n",
            " [1. 0.]\n",
            " [1. 0.]]\n"
          ]
        }
      ]
    },
    {
      "cell_type": "code",
      "source": [
        "from sklearn.utils import shuffle\n",
        "from sklearn.model_selection import train_test_split\n",
        "\n",
        "\n",
        "images, Y = shuffle(images, Y, random_state=1)\n",
        "\n",
        "\n",
        "train_x, test_x, train_y, test_y = train_test_split(images, Y, test_size=0.05, random_state=415)\n",
        "\n",
        "#inpect the shape of the training and testing.\n",
        "print(train_x.shape)\n",
        "print(train_y.shape)\n",
        "print(test_x.shape)\n",
        "print(test_y.shape)"
      ],
      "metadata": {
        "colab": {
          "base_uri": "https://localhost:8080/"
        },
        "id": "0wpG7SejNbBB",
        "outputId": "0a6ea709-09d0-4a28-e898-3d63a48ce6c3"
      },
      "execution_count": null,
      "outputs": [
        {
          "output_type": "stream",
          "name": "stdout",
          "text": [
            "(304, 224, 224, 3)\n",
            "(304, 2)\n",
            "(16, 224, 224, 3)\n",
            "(16, 2)\n"
          ]
        }
      ]
    },
    {
      "cell_type": "code",
      "source": [
        "train_x, val_x, train_y, val_y = train_test_split(train_x, train_y, test_size=0.05, random_state=415)\n",
        "print(train_x.shape)\n",
        "print(train_y.shape)\n",
        "print(val_x.shape)\n",
        "print(val_y.shape)"
      ],
      "metadata": {
        "colab": {
          "base_uri": "https://localhost:8080/"
        },
        "id": "IRbOM5r6NmWu",
        "outputId": "305dd867-d50a-4591-ef73-fe7e9560d904"
      },
      "execution_count": null,
      "outputs": [
        {
          "output_type": "stream",
          "name": "stdout",
          "text": [
            "(288, 224, 224, 3)\n",
            "(288, 2)\n",
            "(16, 224, 224, 3)\n",
            "(16, 2)\n"
          ]
        }
      ]
    },
    {
      "cell_type": "code",
      "source": [
        "import keras\n",
        "from keras.models import Sequential\n",
        "from keras.layers import Dense, Activation, Dropout, Flatten,Conv2D, MaxPooling2D\n",
        "from keras.layers import BatchNormalization"
      ],
      "metadata": {
        "id": "KMkxlLueRXYt"
      },
      "execution_count": null,
      "outputs": []
    },
    {
      "cell_type": "code",
      "source": [
        "# (3) Create a sequential model\n",
        "model = Sequential()\n",
        "\n",
        "# 1st Convolutional Layer\n",
        "model.add(Conv2D(filters=96, input_shape=(224,224,3), kernel_size=(11,11),\\\n",
        " strides=(4,4), padding='valid'))\n",
        "model.add(Activation('relu'))\n",
        "# Pooling \n",
        "model.add(MaxPooling2D(pool_size=(2,2), strides=(2,2), padding='valid'))\n",
        "# Batch Normalisation before passing it to the next layer\n",
        "model.add(BatchNormalization())\n",
        "\n",
        "# 2nd Convolutional Layer\n",
        "model.add(Conv2D(filters=256, kernel_size=(11,11), strides=(1,1), padding='valid'))\n",
        "model.add(Activation('relu'))\n",
        "# Pooling\n",
        "model.add(MaxPooling2D(pool_size=(2,2), strides=(2,2), padding='valid'))\n",
        "# Batch Normalisation\n",
        "model.add(BatchNormalization())\n",
        "# Passing it to a dense layer\n",
        "model.add(Flatten())\n",
        "# 1st Dense Layer\n",
        "model.add(Dense(4096))\n",
        "model.add(Activation('relu'))\n",
        "# Output Layer\n",
        "model.add(Dense(2))\n",
        "model.add(Activation('softmax'))\n",
        "\n",
        "model.summary()"
      ],
      "metadata": {
        "colab": {
          "base_uri": "https://localhost:8080/"
        },
        "id": "N1Mp81W1TCmy",
        "outputId": "0d9c0f4e-6ae2-4139-b4b1-504c0d3f5ba5"
      },
      "execution_count": null,
      "outputs": [
        {
          "output_type": "stream",
          "name": "stdout",
          "text": [
            "Model: \"sequential_3\"\n",
            "_________________________________________________________________\n",
            " Layer (type)                Output Shape              Param #   \n",
            "=================================================================\n",
            " conv2d_10 (Conv2D)          (None, 54, 54, 96)        34944     \n",
            "                                                                 \n",
            " activation_4 (Activation)   (None, 54, 54, 96)        0         \n",
            "                                                                 \n",
            " max_pooling2d_10 (MaxPoolin  (None, 27, 27, 96)       0         \n",
            " g2D)                                                            \n",
            "                                                                 \n",
            " batch_normalization_2 (Batc  (None, 27, 27, 96)       384       \n",
            " hNormalization)                                                 \n",
            "                                                                 \n",
            " conv2d_11 (Conv2D)          (None, 17, 17, 256)       2973952   \n",
            "                                                                 \n",
            " activation_5 (Activation)   (None, 17, 17, 256)       0         \n",
            "                                                                 \n",
            " max_pooling2d_11 (MaxPoolin  (None, 8, 8, 256)        0         \n",
            " g2D)                                                            \n",
            "                                                                 \n",
            " batch_normalization_3 (Batc  (None, 8, 8, 256)        1024      \n",
            " hNormalization)                                                 \n",
            "                                                                 \n",
            " flatten_3 (Flatten)         (None, 16384)             0         \n",
            "                                                                 \n",
            " dense_6 (Dense)             (None, 4096)              67112960  \n",
            "                                                                 \n",
            " activation_6 (Activation)   (None, 4096)              0         \n",
            "                                                                 \n",
            " dense_7 (Dense)             (None, 2)                 8194      \n",
            "                                                                 \n",
            " activation_7 (Activation)   (None, 2)                 0         \n",
            "                                                                 \n",
            "=================================================================\n",
            "Total params: 70,131,458\n",
            "Trainable params: 70,130,754\n",
            "Non-trainable params: 704\n",
            "_________________________________________________________________\n"
          ]
        }
      ]
    },
    {
      "cell_type": "code",
      "source": [
        "# (4) Compile \n",
        "optimizers = keras.optimizers.Adam(lr=0.001)\n",
        "model.compile(loss='categorical_crossentropy', optimizer= optimizers,\\\n",
        " metrics=['accuracy'])"
      ],
      "metadata": {
        "colab": {
          "base_uri": "https://localhost:8080/"
        },
        "id": "KUSTFSp_UFds",
        "outputId": "2dd40929-dbd7-43e6-dc5f-bd32055ed531"
      },
      "execution_count": null,
      "outputs": [
        {
          "output_type": "stream",
          "name": "stderr",
          "text": [
            "/usr/local/lib/python3.8/dist-packages/keras/optimizers/optimizer_v2/adam.py:110: UserWarning: The `lr` argument is deprecated, use `learning_rate` instead.\n",
            "  super(Adam, self).__init__(name, **kwargs)\n"
          ]
        }
      ]
    },
    {
      "cell_type": "code",
      "source": [
        "callback = tf.keras.callbacks.EarlyStopping(\n",
        "    monitor=\"val_loss\",\n",
        "    min_delta=0,\n",
        "    patience=5,\n",
        "    verbose=0,\n",
        "    mode=\"auto\",\n",
        "    baseline=None,\n",
        "    restore_best_weights=True\n",
        ")"
      ],
      "metadata": {
        "id": "wHxGiHowc2QP"
      },
      "execution_count": null,
      "outputs": []
    },
    {
      "cell_type": "code",
      "source": [
        "hist = model.fit(train_x, train_y, validation_data=(val_x,val_y),epochs=40, verbose=2,callbacks=[callback])"
      ],
      "metadata": {
        "colab": {
          "base_uri": "https://localhost:8080/"
        },
        "id": "M65db3XQasHV",
        "outputId": "291548de-328b-43bc-9bcf-e1037f6028ff"
      },
      "execution_count": null,
      "outputs": [
        {
          "output_type": "stream",
          "name": "stdout",
          "text": [
            "Epoch 1/40\n",
            "9/9 - 1s - loss: 31.1795 - accuracy: 0.5035 - val_loss: 129.5801 - val_accuracy: 0.5000 - 1s/epoch - 157ms/step\n",
            "Epoch 2/40\n",
            "9/9 - 0s - loss: 15.5827 - accuracy: 0.5417 - val_loss: 172.0660 - val_accuracy: 0.5000 - 393ms/epoch - 44ms/step\n",
            "Epoch 3/40\n",
            "9/9 - 1s - loss: 9.2611 - accuracy: 0.6285 - val_loss: 49.5690 - val_accuracy: 0.5000 - 551ms/epoch - 61ms/step\n",
            "Epoch 4/40\n",
            "9/9 - 0s - loss: 5.6570 - accuracy: 0.6250 - val_loss: 56.8514 - val_accuracy: 0.5000 - 395ms/epoch - 44ms/step\n",
            "Epoch 5/40\n",
            "9/9 - 1s - loss: 2.3433 - accuracy: 0.7118 - val_loss: 27.9371 - val_accuracy: 0.4375 - 536ms/epoch - 60ms/step\n",
            "Epoch 6/40\n",
            "9/9 - 1s - loss: 1.7923 - accuracy: 0.7708 - val_loss: 15.3820 - val_accuracy: 0.5000 - 534ms/epoch - 59ms/step\n",
            "Epoch 7/40\n",
            "9/9 - 1s - loss: 1.3718 - accuracy: 0.7292 - val_loss: 3.7193 - val_accuracy: 0.6875 - 530ms/epoch - 59ms/step\n",
            "Epoch 8/40\n",
            "9/9 - 0s - loss: 0.9003 - accuracy: 0.8507 - val_loss: 10.4958 - val_accuracy: 0.4375 - 395ms/epoch - 44ms/step\n",
            "Epoch 9/40\n",
            "9/9 - 0s - loss: 0.8737 - accuracy: 0.8229 - val_loss: 15.5732 - val_accuracy: 0.5000 - 401ms/epoch - 45ms/step\n",
            "Epoch 10/40\n",
            "9/9 - 0s - loss: 0.3278 - accuracy: 0.8924 - val_loss: 3.8424 - val_accuracy: 0.5625 - 399ms/epoch - 44ms/step\n",
            "Epoch 11/40\n",
            "9/9 - 1s - loss: 0.4525 - accuracy: 0.8750 - val_loss: 3.4733 - val_accuracy: 0.4375 - 528ms/epoch - 59ms/step\n",
            "Epoch 12/40\n",
            "9/9 - 1s - loss: 0.5518 - accuracy: 0.8611 - val_loss: 2.0941 - val_accuracy: 0.6875 - 532ms/epoch - 59ms/step\n",
            "Epoch 13/40\n",
            "9/9 - 0s - loss: 0.2544 - accuracy: 0.9271 - val_loss: 2.5148 - val_accuracy: 0.6250 - 407ms/epoch - 45ms/step\n",
            "Epoch 14/40\n",
            "9/9 - 0s - loss: 0.4767 - accuracy: 0.8993 - val_loss: 2.6840 - val_accuracy: 0.5625 - 392ms/epoch - 44ms/step\n",
            "Epoch 15/40\n",
            "9/9 - 0s - loss: 0.4569 - accuracy: 0.9028 - val_loss: 9.5716 - val_accuracy: 0.6250 - 401ms/epoch - 45ms/step\n",
            "Epoch 16/40\n",
            "9/9 - 0s - loss: 0.6118 - accuracy: 0.9028 - val_loss: 15.3001 - val_accuracy: 0.5625 - 401ms/epoch - 45ms/step\n",
            "Epoch 17/40\n",
            "9/9 - 0s - loss: 0.6291 - accuracy: 0.8750 - val_loss: 4.7645 - val_accuracy: 0.6250 - 463ms/epoch - 51ms/step\n"
          ]
        }
      ]
    },
    {
      "cell_type": "code",
      "source": [
        "model.evaluate(test_x,test_y)"
      ],
      "metadata": {
        "colab": {
          "base_uri": "https://localhost:8080/"
        },
        "id": "G96c7WWOgose",
        "outputId": "8ccae91a-0f5f-41ab-9a47-5e6efc19fff3"
      },
      "execution_count": null,
      "outputs": [
        {
          "output_type": "stream",
          "name": "stdout",
          "text": [
            "1/1 [==============================] - 0s 33ms/step - loss: 4.2123 - accuracy: 0.5000\n"
          ]
        },
        {
          "output_type": "execute_result",
          "data": {
            "text/plain": [
              "[4.2123003005981445, 0.5]"
            ]
          },
          "metadata": {},
          "execution_count": 37
        }
      ]
    },
    {
      "cell_type": "markdown",
      "source": [
        "# with augmentor"
      ],
      "metadata": {
        "id": "ZQp61MCtZcAO"
      }
    },
    {
      "cell_type": "code",
      "source": [
        "from tensorflow.keras.preprocessing.image import ImageDataGenerator"
      ],
      "metadata": {
        "id": "nkKhRfh1Z4Eq"
      },
      "execution_count": null,
      "outputs": []
    },
    {
      "cell_type": "code",
      "source": [
        "from tensorflow.python import resource_loader\n",
        "datagen = ImageDataGenerator(rotation_range = 40,     width_shift_range=0.6,\n",
        "    height_shift_range=0.5, shear_range=0.0,\n",
        "    zoom_range=0.0, validation_split=0.2, rescale = 1/255)"
      ],
      "metadata": {
        "id": "Fuf-GYQbfPgd"
      },
      "execution_count": null,
      "outputs": []
    },
    {
      "cell_type": "code",
      "source": [
        "train_generator = datagen.flow_from_directory(\n",
        "        '/content/drive/MyDrive/Colab Notebooks/cat and dog',\n",
        "        target_size=(224, 224),\n",
        "        batch_size=32,\n",
        "        class_mode='binary', subset = 'training')"
      ],
      "metadata": {
        "colab": {
          "base_uri": "https://localhost:8080/"
        },
        "id": "GnicfvU7gc60",
        "outputId": "dcb1945e-1dd6-4876-d226-fcabfa36cc17"
      },
      "execution_count": null,
      "outputs": [
        {
          "output_type": "stream",
          "name": "stdout",
          "text": [
            "Found 256 images belonging to 2 classes.\n"
          ]
        }
      ]
    },
    {
      "cell_type": "code",
      "source": [
        "val_generator = datagen.flow_from_directory(\n",
        "        '/content/drive/MyDrive/Colab Notebooks/cat and dog',\n",
        "        target_size=(224, 224),\n",
        "        batch_size=32,\n",
        "        class_mode='binary', subset = 'validation')"
      ],
      "metadata": {
        "colab": {
          "base_uri": "https://localhost:8080/"
        },
        "id": "LSipTOdZhVt3",
        "outputId": "a4960e54-7676-43f6-a11b-98b43b54c840"
      },
      "execution_count": null,
      "outputs": [
        {
          "output_type": "stream",
          "name": "stdout",
          "text": [
            "Found 64 images belonging to 2 classes.\n"
          ]
        }
      ]
    },
    {
      "cell_type": "code",
      "source": [
        "from tensorflow.keras.optimizers import RMSprop"
      ],
      "metadata": {
        "id": "c37ZvTYuddtg"
      },
      "execution_count": null,
      "outputs": []
    },
    {
      "cell_type": "code",
      "source": [
        "model = tf.keras.models.Sequential([\n",
        "    tf.keras.layers.Conv2D(32, (3,3), activation='relu', input_shape=(224, 224, 3)),\n",
        "    tf.keras.layers.MaxPooling2D(2, 2),\n",
        "    tf.keras.layers.Conv2D(64, (3,3), activation='relu'),\n",
        "    tf.keras.layers.MaxPooling2D(2,2),\n",
        "    tf.keras.layers.Conv2D(128, (3,3), activation='relu'),\n",
        "    tf.keras.layers.MaxPooling2D(2,2),\n",
        "    tf.keras.layers.Conv2D(128, (3,3), activation='relu'),\n",
        "    tf.keras.layers.MaxPooling2D(2,2),\n",
        "    tf.keras.layers.Dropout(0.5),\n",
        "    tf.keras.layers.Flatten(),\n",
        "    tf.keras.layers.Dense(512, activation='relu'),\n",
        "    tf.keras.layers.Dense(1, activation='sigmoid')\n",
        "])\n",
        "\n",
        "\n",
        "model.compile(loss='binary_crossentropy',\n",
        "              optimizer=RMSprop(lr=0.0001),\n",
        "              metrics=['acc'])"
      ],
      "metadata": {
        "id": "iIcQ05mCOOel",
        "colab": {
          "base_uri": "https://localhost:8080/"
        },
        "outputId": "cb6533b6-9731-47d4-ff9f-d49294432a8e"
      },
      "execution_count": null,
      "outputs": [
        {
          "output_type": "stream",
          "name": "stderr",
          "text": [
            "/usr/local/lib/python3.8/dist-packages/keras/optimizers/optimizer_v2/rmsprop.py:135: UserWarning: The `lr` argument is deprecated, use `learning_rate` instead.\n",
            "  super(RMSprop, self).__init__(name, **kwargs)\n"
          ]
        }
      ]
    },
    {
      "cell_type": "code",
      "source": [
        "callback = tf.keras.callbacks.EarlyStopping(\n",
        "    monitor=\"val_loss\",\n",
        "    min_delta=0,\n",
        "    patience=5,\n",
        "    verbose=0,\n",
        "    mode=\"auto\",\n",
        "    baseline=None,\n",
        "    restore_best_weights=True\n",
        ")"
      ],
      "metadata": {
        "id": "mV76iixTbplC"
      },
      "execution_count": null,
      "outputs": []
    },
    {
      "cell_type": "code",
      "source": [
        "hist = model.fit(train_generator, validation_data=val_generator,epochs=40, verbose=2, callbacks=[callback])"
      ],
      "metadata": {
        "colab": {
          "base_uri": "https://localhost:8080/"
        },
        "id": "U-RbzWSMOUcl",
        "outputId": "036a65d4-240e-4af0-ca50-9e896affe08d"
      },
      "execution_count": null,
      "outputs": [
        {
          "output_type": "stream",
          "name": "stdout",
          "text": [
            "Epoch 1/40\n",
            "8/8 - 6s - loss: 0.7120 - acc: 0.4922 - val_loss: 0.6946 - val_acc: 0.5312 - 6s/epoch - 790ms/step\n",
            "Epoch 2/40\n",
            "8/8 - 5s - loss: 0.6991 - acc: 0.4180 - val_loss: 0.6898 - val_acc: 0.5469 - 5s/epoch - 570ms/step\n",
            "Epoch 3/40\n",
            "8/8 - 5s - loss: 0.6922 - acc: 0.5039 - val_loss: 0.7064 - val_acc: 0.5000 - 5s/epoch - 571ms/step\n",
            "Epoch 4/40\n",
            "8/8 - 5s - loss: 0.6982 - acc: 0.5039 - val_loss: 0.6911 - val_acc: 0.5000 - 5s/epoch - 573ms/step\n",
            "Epoch 5/40\n",
            "8/8 - 5s - loss: 0.6948 - acc: 0.4883 - val_loss: 0.6917 - val_acc: 0.5000 - 5s/epoch - 571ms/step\n",
            "Epoch 6/40\n",
            "8/8 - 5s - loss: 0.6925 - acc: 0.5156 - val_loss: 0.6922 - val_acc: 0.5156 - 5s/epoch - 570ms/step\n",
            "Epoch 7/40\n",
            "8/8 - 5s - loss: 0.6900 - acc: 0.5195 - val_loss: 0.6948 - val_acc: 0.5000 - 5s/epoch - 576ms/step\n"
          ]
        }
      ]
    },
    {
      "cell_type": "code",
      "source": [
        "model.evaluate(val_generator)"
      ],
      "metadata": {
        "colab": {
          "base_uri": "https://localhost:8080/"
        },
        "id": "y9_tdgRpgR92",
        "outputId": "874a2095-2550-4f72-bd78-3292a830f04b"
      },
      "execution_count": null,
      "outputs": [
        {
          "output_type": "stream",
          "name": "stdout",
          "text": [
            "2/2 [==============================] - 1s 458ms/step - loss: 0.6913 - acc: 0.5781\n"
          ]
        },
        {
          "output_type": "execute_result",
          "data": {
            "text/plain": [
              "[0.6912565231323242, 0.578125]"
            ]
          },
          "metadata": {},
          "execution_count": 32
        }
      ]
    },
    {
      "cell_type": "markdown",
      "source": [
        "## After data augmentation accuracy increased by 7%"
      ],
      "metadata": {
        "id": "L3APNHIxhNRS"
      }
    },
    {
      "cell_type": "code",
      "source": [],
      "metadata": {
        "id": "bF_mjXYFgYVd"
      },
      "execution_count": null,
      "outputs": []
    }
  ]
}